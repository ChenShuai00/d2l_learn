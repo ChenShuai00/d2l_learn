{
 "cells": [
  {
   "cell_type": "code",
   "execution_count": 1,
   "id": "ee9cbf1c-8b92-49ac-85e5-5ebb6c36cc65",
   "metadata": {},
   "outputs": [],
   "source": [
    "import torch\n",
    "from d2l import torch as d2l"
   ]
  },
  {
   "cell_type": "code",
   "execution_count": 2,
   "id": "5698804b-c33a-421b-9a45-bdf69967b6d1",
   "metadata": {},
   "outputs": [
    {
     "data": {
      "text/plain": [
       "tensor([[ 3.9515, -0.2196,  0.4491, -0.3447],\n",
       "        [ 0.3890, -2.1826,  0.0216,  0.2496],\n",
       "        [ 0.7593,  2.6760, -1.3032, -3.0783]])"
      ]
     },
     "execution_count": 2,
     "metadata": {},
     "output_type": "execute_result"
    }
   ],
   "source": [
    "X, W_xh = torch.normal(0, 1, (3, 1)), torch.normal(0, 1, (1, 4))\n",
    "H, W_hh = torch.normal(0, 1, (3, 4)), torch.normal(0, 1, (4, 4))\n",
    "torch.matmul(X, W_xh) + torch.matmul(H, W_hh)"
   ]
  },
  {
   "cell_type": "code",
   "execution_count": 4,
   "id": "3ea4a0f1-4e0c-456d-b89a-12da22f65e94",
   "metadata": {},
   "outputs": [
    {
     "data": {
      "text/plain": [
       "tensor([[ 3.9515, -0.2196,  0.4491, -0.3447],\n",
       "        [ 0.3890, -2.1826,  0.0216,  0.2496],\n",
       "        [ 0.7593,  2.6760, -1.3032, -3.0783]])"
      ]
     },
     "execution_count": 4,
     "metadata": {},
     "output_type": "execute_result"
    }
   ],
   "source": [
    "torch.matmul(torch.cat((X, H), 1), torch.cat((W_xh, W_hh), 0))"
   ]
  },
  {
   "cell_type": "markdown",
   "id": "01d36722-8533-4935-9f2a-7edd471210ea",
   "metadata": {},
   "source": [
    "### 基于循环神经网络的字符级语言模型 "
   ]
  },
  {
   "cell_type": "code",
   "execution_count": 1,
   "id": "c5c29a26-c61a-4cbf-8291-9798c7203c1b",
   "metadata": {},
   "outputs": [],
   "source": [
    "%matplotlib inline\n",
    "import math\n",
    "import torch\n",
    "from torch import nn\n",
    "from torch.nn import functional as F\n",
    "from d2l import torch as d2l"
   ]
  },
  {
   "cell_type": "code",
   "execution_count": 2,
   "id": "619bcd48-b876-43e1-a0d6-ad2b538e0509",
   "metadata": {},
   "outputs": [],
   "source": [
    "batch_size, num_steps = 32, 35\n",
    "train_iter, vocab = d2l.load_data_time_machine(batch_size, num_steps)"
   ]
  },
  {
   "cell_type": "markdown",
   "id": "b69b8f53-e914-42a4-8206-7acaa9241f06",
   "metadata": {},
   "source": [
    "### 独热编码 "
   ]
  },
  {
   "cell_type": "code",
   "execution_count": 9,
   "id": "40bba4e1-52c2-48e3-8120-b12a6452d623",
   "metadata": {},
   "outputs": [
    {
     "data": {
      "text/plain": [
       "torch.Size([5, 2, 28])"
      ]
     },
     "execution_count": 9,
     "metadata": {},
     "output_type": "execute_result"
    }
   ],
   "source": [
    "X = torch.arange(10).reshape((2, 5))\n",
    "F.one_hot(X.T, 28).shape"
   ]
  },
  {
   "cell_type": "markdown",
   "id": "f1a87b88-104e-4b65-9426-5c4f6def23c6",
   "metadata": {},
   "source": [
    "### 初始化模型参数 "
   ]
  },
  {
   "cell_type": "code",
   "execution_count": 12,
   "id": "b7957e67-c67f-42b9-8462-fa937e104540",
   "metadata": {},
   "outputs": [],
   "source": [
    "def get_params(vocab_size, num_hiddens, device):\n",
    "    num_inputs = num_outputs = vocab_size\n",
    "    def normal(shape):\n",
    "        return torch.randn(size=shape, device=device) * 0.01\n",
    "    # 隐藏层参数\n",
    "    W_xh = normal((num_inputs, num_hiddens))\n",
    "    W_hh = normal((num_hiddens, num_hiddens))\n",
    "    b_h = torch.zeros(num_hiddens, device=device)\n",
    "    # 输出层参数\n",
    "    W_hq = normal((num_hiddens, num_outputs))\n",
    "    b_q = torch.zeros(num_outputs, device=device)\n",
    "    # 附加梯度\n",
    "    params = [W_xh, W_hh, b_h, W_hq, b_q]\n",
    "    for param in params:\n",
    "        param.requires_grad_(True)\n",
    "    return params"
   ]
  },
  {
   "cell_type": "markdown",
   "id": "85e6bdce-67be-4028-a606-8d82310c6675",
   "metadata": {},
   "source": [
    "### 循环神经网络模型 "
   ]
  },
  {
   "cell_type": "code",
   "execution_count": 10,
   "id": "f16ce939-4f4c-4c77-bd18-19d664d35609",
   "metadata": {},
   "outputs": [],
   "source": [
    "#返回初始化时的隐状态\n",
    "def init_rnn_state(batch_size, num_hiddens, device):\n",
    "    \"\"\"\n",
    "    params:\n",
    "        batch_size: 批量大小\n",
    "        num_hiddens: 隐藏单元数\n",
    "        device: cpu/gpu\n",
    "    \"\"\"\n",
    "    return (torch.zeros((batch_size, num_hiddens), device = device))"
   ]
  },
  {
   "cell_type": "code",
   "execution_count": 11,
   "id": "e9b61cba-15bf-4811-af45-7a0f5ce85b05",
   "metadata": {},
   "outputs": [],
   "source": [
    "#在一个时间步内计算隐状态和输出\n",
    "def rnn(inputs, state, params):\n",
    "    # inputs的形状：(时间步数量，批量大小，词表大小)\n",
    "    W_xh, W_hh, b_h, W_hq, b_q = params\n",
    "    H, = state\n",
    "    outputs = []\n",
    "    # X的形状：(批量大小，词表大小)\n",
    "    for X in inputs:\n",
    "        H = torch.tanh(torch.mm(X, W_xh) + torch.mm(H, W_hh) + b_h)\n",
    "        Y = torch.mm(H, W_hq) + b_q\n",
    "        outputs.append(Y)\n",
    "    return torch.cat(outputs, dim=0) , (H,)"
   ]
  },
  {
   "cell_type": "code",
   "execution_count": null,
   "id": "fc3eb6d1-41d8-4a89-aee3-66795a57ddb7",
   "metadata": {},
   "outputs": [],
   "source": []
  }
 ],
 "metadata": {
  "kernelspec": {
   "display_name": "Python 3 (ipykernel)",
   "language": "python",
   "name": "python3"
  },
  "language_info": {
   "codemirror_mode": {
    "name": "ipython",
    "version": 3
   },
   "file_extension": ".py",
   "mimetype": "text/x-python",
   "name": "python",
   "nbconvert_exporter": "python",
   "pygments_lexer": "ipython3",
   "version": "3.9.18"
  }
 },
 "nbformat": 4,
 "nbformat_minor": 5
}
