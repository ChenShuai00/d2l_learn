{
 "cells": [
  {
   "cell_type": "code",
   "execution_count": 2,
   "id": "8e9d1792-4708-40d7-becd-1b6b1a85611f",
   "metadata": {},
   "outputs": [],
   "source": [
    "%matplotlib inline\n",
    "import collections\n",
    "import random\n",
    "import re\n",
    "import math\n",
    "import torch\n",
    "from torch import nn\n",
    "from torch.nn import functional as F\n",
    "from d2l import torch as d2l"
   ]
  },
  {
   "cell_type": "markdown",
   "id": "639c1b09-eb2a-4903-92c4-9cb70a38181c",
   "metadata": {},
   "source": [
    "### 文本预处理"
   ]
  },
  {
   "cell_type": "code",
   "execution_count": 20,
   "id": "e64a103c-54aa-45b5-b5e9-5cbe26ce482f",
   "metadata": {},
   "outputs": [],
   "source": [
    "#@save\n",
    "d2l.DATA_HUB['time_machine'] = (d2l.DATA_URL + 'timemachine.txt','090b5e7e70c295757f55df93cb0a180b9691891a')\n",
    "def read_time_machine(): #@save\n",
    "    \"\"\"将时间机器数据集加载到文本行的列表中\"\"\"\n",
    "    with open(d2l.download('time_machine'), 'r') as f:\n",
    "        lines = f.readlines()\n",
    "    return [re.sub('[^A-Za-z]+', ' ', line).strip().lower() for line in lines]"
   ]
  },
  {
   "cell_type": "code",
   "execution_count": 21,
   "id": "75161d38-fc4b-42a8-8788-d11a01028700",
   "metadata": {},
   "outputs": [],
   "source": [
    " #词元化\n",
    "def tokenize(lines, token='word'): #@save\n",
    "    \"\"\"将文本行拆分为单词或字符词元\"\"\"\n",
    "    if token == 'word':\n",
    "        return [line.split() for line in lines]\n",
    "    elif token == 'char':\n",
    "        return [list(line) for line in lines]\n",
    "    else:\n",
    "        print('错误：未知词元类型：' + token)"
   ]
  },
  {
   "cell_type": "code",
   "execution_count": 5,
   "id": "2db43336-3b43-4c4e-9edd-2e26085288e6",
   "metadata": {},
   "outputs": [],
   "source": [
    "#词表\n",
    "\"\"\"\n",
    "词表（vocabulary），用来将字符串类型的词元映射到从0开始的数字索引中。\n",
    "1.先将训练集中的所有文档合并在一起，对它们的唯一词元进行统计，得到的统计结果称之为语料（corpus）\n",
    "2.然后根据每个唯一词元的出现频率，为其分配一个数字索引。很少出现的词元通常被移除，这可以降低复杂性。\n",
    "3.另外，语料库中不存在或已删除的任何词元都将映射到一个特定的未知词元“<unk>”。\n",
    "\"\"\"\n",
    "def count_corpus(tokens):\n",
    "    \"\"\"统计词元的频率\"\"\"\n",
    "    # 这里的tokens是1D列表或2D列表\n",
    "    if len(tokens) == 0 or isinstance(tokens[0], list): # tookens内内嵌列表，\n",
    "        # 将词元列表展平成一个列表\n",
    "        tokens = [token for line in tokens for token in line]\n",
    "    return collections.Counter(tokens)\n",
    "\n",
    "class Vocab:\n",
    "    def __init__(self, tokens=None, min_freq=0, reserved_tokens=None):\n",
    "        if tokens is None:\n",
    "            tokens = []\n",
    "        if reserved_tokens is None:\n",
    "            reserved_tokens = []\n",
    "        # 按出现频率排序\n",
    "        counter = count_corpus(tokens) # 生成元组，内有词元和其频率\n",
    "        self._token_freqs = sorted(counter.items(), key=lambda x: x[1], reverse=True) #[(词元，频率),()]\n",
    "        # 未知词元的索引为0\n",
    "        self.idx_to_token = ['<unk>'] + reserved_tokens\n",
    "        self.token_to_idx = {token: idx for idx, token in enumerate(self.idx_to_token)}\n",
    "        for token, freq in self._token_freqs:\n",
    "            if freq < min_freq:\n",
    "                break\n",
    "            if token not in self.token_to_idx:\n",
    "                self.idx_to_token.append(token)\n",
    "                #为词元添加索引，其结构{token: idx,},其以预定词元开头\n",
    "                self.token_to_idx[token] = len(self.idx_to_token) - 1\n",
    "                \n",
    "    def __len__(self):\n",
    "        return len(self.idx_to_token)\n",
    "\n",
    "    #通过token获取索引\n",
    "    def __getitem__(self, tokens):\n",
    "        # 当传入的 tokens 参数不是列表或元组时（即假设它是单个令牌），方法会尝试从一个名为 self.token_to_idx 的字典中获取该令牌对应的索引值。如果令牌不存在于字典中，方法将返回一个未知令牌的索引，这通常是一个预定义的属性 self.unk。\n",
    "        if not isinstance(tokens, (list, tuple)):\n",
    "            return self.token_to_idx.get(tokens, self.unk)\n",
    "        # 如果传入的 tokens 参数是一个列表或元组（即一组令牌），方法将遍历集合中的每个令牌，对每个令牌递归调用 __getitem__ 方法，并将结果收集成一个列表返回\n",
    "        return [self.__getitem__(token) for token in tokens]\n",
    "\n",
    "    # 通过索引获取token\n",
    "    def to_tokens(self, indices):\n",
    "        if not isinstance(indices, (list, tuple)):\n",
    "            return self.idx_to_token[indices]\n",
    "        return [self.idx_to_token[index] for index in indices]\n",
    "\n",
    "    @property #unk 属性被定义为一个装饰器 @property，这意味着它可以像访问数据属性一样被调用，而不需要括号。\n",
    "    def unk(self): # 未知词元的索引为0\n",
    "        return 0\n",
    "\n",
    "    @property\n",
    "    def token_freqs(self):\n",
    "        return self._token_freqs"
   ]
  },
  {
   "cell_type": "code",
   "execution_count": 22,
   "id": "c23d6c40-edc7-46a9-8ccc-3662821c01f0",
   "metadata": {},
   "outputs": [
    {
     "name": "stdout",
     "output_type": "stream",
     "text": [
      "文本: ['the', 'time', 'machine', 'by', 'h', 'g', 'wells']\n",
      "索引: [1, 19, 50, 40, 2183, 2184, 400]\n",
      "索引转文本: ['the', 'time', 'machine', 'by', 'h', 'g', 'wells']\n",
      "文本: ['twinkled', 'and', 'his', 'usually', 'pale', 'face', 'was', 'flushed', 'and', 'animated', 'the']\n",
      "索引: [2186, 3, 25, 1044, 362, 113, 7, 1421, 3, 1045, 1]\n",
      "索引转文本: ['twinkled', 'and', 'his', 'usually', 'pale', 'face', 'was', 'flushed', 'and', 'animated', 'the']\n"
     ]
    }
   ],
   "source": [
    "lines = read_time_machine() #[[第一行文字],[第二行文字],.....]\n",
    "tokens = tokenize(lines)#[[第一行tokens,[第二二行tokens]]]\n",
    "vocab = Vocab(tokens)\n",
    "#将文本转为数字索引.索引转文本\n",
    "for i in [0, 10]:\n",
    "    print('文本:', tokens[i])\n",
    "    print('索引:', vocab[tokens[i]])\n",
    "    print('索引转文本:', vocab.to_tokens(vocab[tokens[i]]))"
   ]
  },
  {
   "cell_type": "code",
   "execution_count": 29,
   "id": "d4099c56-01f3-46a5-a9cf-6d8d1f6b239d",
   "metadata": {},
   "outputs": [],
   "source": [
    "#整合功能\n",
    "def load_corpus_time_machine(max_tokens=-1): #@save\n",
    "    \"\"\"返回时光机器数据集的词元索引列表和词表\"\"\"\n",
    "    lines = read_time_machine()\n",
    "    tokens = tokenize(lines, 'char')\n",
    "    vocab = Vocab(tokens)\n",
    "    # 因为时光机器数据集中的每个文本行不一定是一个句子或一个段落，\n",
    "    # 所以将所有文本行展平到一个列表中\n",
    "    corpus = [vocab[token] for line in tokens for token in line] #文本列表转成索引列表\n",
    "    if max_tokens > 0:\n",
    "        corpus = corpus[:max_tokens]\n",
    "    return corpus, vocab\n",
    "# corpus 是文本经过tokenlize后的文本索引\n",
    "corpus, vocab = load_corpus_time_machine()"
   ]
  },
  {
   "cell_type": "markdown",
   "id": "7896f087-49f8-4453-88c9-5fdb622f336f",
   "metadata": {},
   "source": [
    "### 读取长序列数据 "
   ]
  },
  {
   "cell_type": "code",
   "execution_count": 43,
   "id": "a43c2062-40d1-4302-add5-6c3431d5bc15",
   "metadata": {},
   "outputs": [],
   "source": [
    "#随机采样\n",
    "\"\"\"在随机采样中，每个样本都是在原始的长序列上任意捕获的子序列。在迭代过程中，来自两个相邻的、随机\n",
    "的、小批量中的子序列不一定在原始序列上相邻。对于语言建模，目标是基于到目前为止我们看到的词元来\n",
    "预测下一个词元，因此标签是移位了一个词元的原始序列。\"\"\"\n",
    "def seq_data_iter_random(corpus, batch_size, num_steps):\n",
    "    \"\"\"使用随机抽样生成一个小批量子序列\"\"\"\n",
    "    # 从随机偏移量开始对序列进行分区，随机范围包括num_steps-1\n",
    "    print(f\"corpus:{corpus}\\nbatch_size:{batch_size}\\nnum_steps:{num_steps}\")\n",
    "    corpus = corpus[random.randint(0, num_steps - 1): ]\n",
    "    print(f\"corpus:{corpus}\\nlen(corpus):{len(corpus)}\")\n",
    "    # 减去1，是因为我们需要考虑标签\n",
    "    num_subseqs = (len(corpus) - 1) // num_steps\n",
    "    print(f\"num_subseqs:{num_subseqs}\")\n",
    "    # 长度为num_steps的子序列的起始索引\n",
    "    initial_indices = list(range(0, num_subseqs * num_steps, num_steps))\n",
    "    print(f\"initial_indices:{initial_indices}\")\n",
    "    # 在随机抽样的迭代过程中，\n",
    "    # 来自两个相邻的、随机的、小批量中的子序列不一定在原始序列上相邻\n",
    "    random.shuffle(initial_indices)\n",
    "    print(f\"打乱后initial_indices:{initial_indices}\")\n",
    "    def data(pos):\n",
    "        # 返回从pos位置开始的长度为num_steps的序列\n",
    "        return corpus[pos: pos + num_steps]\n",
    "    num_batches = num_subseqs // batch_size\n",
    "    print(f\"num_batches:{num_batches}\")\n",
    "    for i in range(0, batch_size * num_batches, batch_size):\n",
    "        # 在这里，initial_indices包含子序列的随机起始索引\n",
    "        initial_indices_per_batch = initial_indices[i: i + batch_size]\n",
    "        print(f\"initial_indices_per_batch:{initial_indices_per_batch}\")\n",
    "        X = [data(j) for j in initial_indices_per_batch]\n",
    "        Y = [data(j + 1) for j in initial_indices_per_batch]\n",
    "        yield torch.tensor(X), torch.tensor(Y)"
   ]
  },
  {
   "cell_type": "code",
   "execution_count": 44,
   "id": "0e94aa4c-9587-48df-a309-9bc51f89a5c6",
   "metadata": {},
   "outputs": [
    {
     "name": "stdout",
     "output_type": "stream",
     "text": [
      "['t', 'h', 'e', ' ', 't', 'i', 'm', 'e', ' ', 'm', 'a', 'c', 'h', 'i', 'n', 'e', ' ', 'b', 'y', ' ', 'h', ' ', 'g', ' ', 'w', 'e', 'l', 'l', 's', 'i', 't', 'h', 'e', ' ', 't']\n",
      "corpus:[3, 9, 2, 1, 3, 5, 13, 2, 1, 13, 4, 15, 9, 5, 6, 2, 1, 21, 19, 1, 9, 1, 18, 1, 17, 2, 12, 12, 8, 5, 3, 9, 2, 1, 3]\n",
      "batch_size:2\n",
      "num_steps:5\n",
      "corpus:[3, 5, 13, 2, 1, 13, 4, 15, 9, 5, 6, 2, 1, 21, 19, 1, 9, 1, 18, 1, 17, 2, 12, 12, 8, 5, 3, 9, 2, 1, 3]\n",
      "len(corpus):31\n",
      "num_subseqs:6\n",
      "initial_indices:[0, 5, 10, 15, 20, 25]\n",
      "打乱后initial_indices:[5, 10, 0, 15, 20, 25]\n",
      "num_batches:3\n",
      "initial_indices_per_batch:[5, 10]\n",
      "X:  tensor([[13,  4, 15,  9,  5],\n",
      "        [ 6,  2,  1, 21, 19]]) \n",
      "Y: tensor([[ 4, 15,  9,  5,  6],\n",
      "        [ 2,  1, 21, 19,  1]])\n",
      "initial_indices_per_batch:[0, 15]\n",
      "X:  tensor([[ 3,  5, 13,  2,  1],\n",
      "        [ 1,  9,  1, 18,  1]]) \n",
      "Y: tensor([[ 5, 13,  2,  1, 13],\n",
      "        [ 9,  1, 18,  1, 17]])\n",
      "initial_indices_per_batch:[20, 25]\n",
      "X:  tensor([[17,  2, 12, 12,  8],\n",
      "        [ 5,  3,  9,  2,  1]]) \n",
      "Y: tensor([[ 2, 12, 12,  8,  5],\n",
      "        [ 3,  9,  2,  1,  3]])\n"
     ]
    }
   ],
   "source": [
    "my_seq = corpus[0:35]\n",
    "my_char = vocab.to_tokens(my_seq)\n",
    "print(my_char)\n",
    "for X, Y in seq_data_iter_random(my_seq, batch_size=2, num_steps=5):\n",
    "    print('X: ', X, '\\nY:', Y)"
   ]
  },
  {
   "cell_type": "code",
   "execution_count": 10,
   "id": "451917a1-dc01-4cb4-928e-e8ecba93bd23",
   "metadata": {},
   "outputs": [],
   "source": [
    "#顺序分区\n",
    "\"\"\"在迭代过程中，除了对原始序列可以随机抽样外，我们还可以保证两个相邻的小批量中的子序列在原始序列\n",
    "上也是相邻的。这种策略在基于小批量的迭代过程中保留了拆分的子序列的顺序，因此称为顺序分区。\"\"\"\n",
    "def seq_data_iter_sequential(corpus, batch_size, num_steps): #@save\n",
    "    \"\"\"使用顺序分区生成一个小批量子序列\"\"\"\n",
    "    # 从随机偏移量开始划分序列\n",
    "    offset = random.randint(0, num_steps)\n",
    "    num_tokens = ((len(corpus) - offset - 1) // batch_size) * batch_size\n",
    "    print(f\"num_tokens:{num_tokens}\")\n",
    "    Xs = torch.tensor(corpus[offset: offset + num_tokens])\n",
    "    Ys = torch.tensor(corpus[offset + 1: offset + 1 + num_tokens])\n",
    "    Xs, Ys = Xs.reshape(batch_size, -1), Ys.reshape(batch_size, -1)\n",
    "    num_batches = Xs.shape[1] // num_steps\n",
    "    for i in range(0, num_steps * num_batches, num_steps):\n",
    "        X = Xs[:, i: i + num_steps]\n",
    "        Y = Ys[:, i: i + num_steps]\n",
    "        yield X, Y\n"
   ]
  },
  {
   "cell_type": "code",
   "execution_count": 12,
   "id": "3666e261-d78e-45fb-8b5d-7068942efd00",
   "metadata": {},
   "outputs": [],
   "source": [
    "class SeqDataLoader: #@save\n",
    "    \"\"\"加载序列数据的迭代器\"\"\"\n",
    "    def __init__(self, batch_size, num_steps, use_random_iter, max_tokens):\n",
    "        if use_random_iter:\n",
    "            self.data_iter_fn = d2l.seq_data_iter_random\n",
    "        else:\n",
    "            self.data_iter_fn = d2l.seq_data_iter_sequential\n",
    "        self.corpus, self.vocab = d2l.load_corpus_time_machine(max_tokens)\n",
    "        self.batch_size, self.num_steps = batch_size, num_steps\n",
    "    def __iter__(self):\n",
    "        return self.data_iter_fn(self.corpus, self.batch_size, self.num_steps)\n",
    "        \n",
    "def load_data_time_machine(batch_size, num_steps, use_random_iter=False, max_tokens=10000):\n",
    "    \"\"\"返回时光机器数据集的迭代器和词表\"\"\"\n",
    "    data_iter = SeqDataLoader(batch_size, num_steps, use_random_iter, max_tokens)\n",
    "    return data_iter, data_iter.vocab"
   ]
  },
  {
   "cell_type": "markdown",
   "id": "8a9ad69e-8d83-4011-9950-596b705c2bb1",
   "metadata": {},
   "source": [
    "### RNN"
   ]
  },
  {
   "cell_type": "code",
   "execution_count": 13,
   "id": "b71fc92f-0cdb-4085-b99a-b404b9b88f5a",
   "metadata": {},
   "outputs": [],
   "source": [
    "batch_size, num_steps = 32, 35\n",
    "train_iter, vocab = d2l.load_data_time_machine(batch_size, num_steps)"
   ]
  },
  {
   "cell_type": "markdown",
   "id": "4d837f5b-7687-44b0-91a9-f2b034cd91ab",
   "metadata": {},
   "source": [
    "### 初始化模型 "
   ]
  },
  {
   "cell_type": "code",
   "execution_count": 15,
   "id": "b0ddce03-cc5c-4676-a5d8-0fffce14e631",
   "metadata": {},
   "outputs": [],
   "source": [
    "def get_params(vocab_size, num_hiddens, device):\n",
    "    num_inputs = num_outputs = vocab_size\n",
    "    \n",
    "    def normal(shape):\n",
    "        return torch.randn(size=shape, device=device) * 0.01\n",
    "\n",
    "    #隐藏层参数\n",
    "    W_xh = normal((num_inputs, num_hiddens))\n",
    "    W_hh = normal((num_hiddens, num_hiddens))\n",
    "    b_h = torch.zeros(num_hiddens, device=device)\n",
    "    #输出层参数\n",
    "    W_hq = normal((num_hiddens, num_outputs))\n",
    "    b_q = torch.zeros(num_outputs, device=device)\n",
    "    #附加梯度\n",
    "    params = [W_xh, W_hh, b_h, W_hq, b_q]\n",
    "    for param in params:\n",
    "        param.requires_grad_(True)\n",
    "    return params"
   ]
  },
  {
   "cell_type": "markdown",
   "id": "07030d43-be9d-4d05-b3bd-62c85fb13c3a",
   "metadata": {},
   "source": [
    "### 循环神经网络模型 "
   ]
  },
  {
   "cell_type": "code",
   "execution_count": 50,
   "id": "6902603c-58bc-40a9-b8f2-0f59b02f879f",
   "metadata": {},
   "outputs": [],
   "source": [
    "def init_rnn_state(batch_size, num_hiddens, device):\n",
    "    return (torch.zeros((batch_size, num_hiddens), device=device),)\n",
    "def rnn(inputs, state, params):\n",
    "    #inputs的形状：（时间步， 批量大小， 词表大小）\n",
    "    W_xh, W_hh, b_h, W_hq, b_q = params\n",
    "    H, = state\n",
    "    outputs = []\n",
    "    #x的形状：（批量大小， 词表大小）\n",
    "    for X in inputs:\n",
    "        H = torch.tanh(torch.mm(X, W_xh) + torch.mm(H, W_hh) + b_h)\n",
    "        Y = torch.mm(H, W_hq) + b_q\n",
    "        outputs.append(Y)\n",
    "    return torch.cat(outputs, dim=0), (H,)"
   ]
  },
  {
   "cell_type": "code",
   "execution_count": 48,
   "id": "93c7b9aa-633a-4bc9-9cee-8acee20417a2",
   "metadata": {},
   "outputs": [],
   "source": [
    "class RNNModelScratch: #@save\n",
    "    \"\"\"从零开始实现的循环神经网络模型\"\"\"\n",
    "    def __init__(self, vocab_size, num_hiddens, device, get_params, init_state, forward_fn):\n",
    "        self.vocab_size, self.num_hiddens = vocab_size, num_hiddens\n",
    "        self.params = get_params(vocab_size, num_hiddens, device)\n",
    "        self.init_state, self.forward_fn = init_state, forward_fn\n",
    "        \n",
    "    def __call__(self, X, state):\n",
    "        X = F.one_hot(X.T, self.vocab_size).type(torch.float32)\n",
    "        return self.forward_fn(X, state, self.params)\n",
    "        \n",
    "    def begin_state(self, batch_size, device):\n",
    "        return self.init_state(batch_size, self.num_hiddens, device)"
   ]
  },
  {
   "cell_type": "code",
   "execution_count": 46,
   "id": "994c223c-9a89-4a6f-9ab3-d8f0c0f96826",
   "metadata": {},
   "outputs": [],
   "source": [
    "def predict_ch8(prefix, num_preds, net, vocab, device): #@save\n",
    "    \"\"\"在prefix后面生成新字符\"\"\"\n",
    "    state = net.begin_state(batch_size=1, device=device)\n",
    "    outputs = [vocab[prefix[0]]]\n",
    "    get_input = lambda: torch.tensor([outputs[-1]], device=device).reshape((1, 1))\n",
    "    for y in prefix[1:]: # 预热期\n",
    "        _, state = net(get_input(), state)\n",
    "        outputs.append(vocab[y])\n",
    "    for _ in range(num_preds): # 预测num_preds步\n",
    "        y, state = net(get_input(), state)\n",
    "        outputs.append(int(y.argmax(dim=1).reshape(1)))\n",
    "    return ''.join([vocab.idx_to_token[i] for i in outputs])"
   ]
  },
  {
   "cell_type": "code",
   "execution_count": 51,
   "id": "69bc8ad1-d441-4bdf-b869-75bbc2ee592a",
   "metadata": {},
   "outputs": [
    {
     "name": "stdout",
     "output_type": "stream",
     "text": [
      "batch_size:1\n",
      "num_hiddens:512\n",
      "init_rnn_staee shape: (1, 512)\n",
      "vocab_size:28\n",
      "input_X(独热编码后):torch.Size([1, 1, 28])\n",
      "vocab_size:28\n",
      "input_X(独热编码后):torch.Size([1, 1, 28])\n",
      "vocab_size:28\n",
      "input_X(独热编码后):torch.Size([1, 1, 28])\n",
      "vocab_size:28\n",
      "input_X(独热编码后):torch.Size([1, 1, 28])\n",
      "vocab_size:28\n",
      "input_X(独热编码后):torch.Size([1, 1, 28])\n",
      "vocab_size:28\n",
      "input_X(独热编码后):torch.Size([1, 1, 28])\n",
      "vocab_size:28\n",
      "input_X(独热编码后):torch.Size([1, 1, 28])\n",
      "vocab_size:28\n",
      "input_X(独热编码后):torch.Size([1, 1, 28])\n",
      "vocab_size:28\n",
      "input_X(独热编码后):torch.Size([1, 1, 28])\n",
      "vocab_size:28\n",
      "input_X(独热编码后):torch.Size([1, 1, 28])\n",
      "vocab_size:28\n",
      "input_X(独热编码后):torch.Size([1, 1, 28])\n",
      "vocab_size:28\n",
      "input_X(独热编码后):torch.Size([1, 1, 28])\n",
      "vocab_size:28\n",
      "input_X(独热编码后):torch.Size([1, 1, 28])\n",
      "vocab_size:28\n",
      "input_X(独热编码后):torch.Size([1, 1, 28])\n",
      "vocab_size:28\n",
      "input_X(独热编码后):torch.Size([1, 1, 28])\n",
      "vocab_size:28\n",
      "input_X(独热编码后):torch.Size([1, 1, 28])\n",
      "vocab_size:28\n",
      "input_X(独热编码后):torch.Size([1, 1, 28])\n",
      "vocab_size:28\n",
      "input_X(独热编码后):torch.Size([1, 1, 28])\n",
      "vocab_size:28\n",
      "input_X(独热编码后):torch.Size([1, 1, 28])\n",
      "vocab_size:28\n",
      "input_X(独热编码后):torch.Size([1, 1, 28])\n",
      "vocab_size:28\n",
      "input_X(独热编码后):torch.Size([1, 1, 28])\n",
      "vocab_size:28\n",
      "input_X(独热编码后):torch.Size([1, 1, 28])\n",
      "vocab_size:28\n",
      "input_X(独热编码后):torch.Size([1, 1, 28])\n",
      "vocab_size:28\n",
      "input_X(独热编码后):torch.Size([1, 1, 28])\n"
     ]
    },
    {
     "data": {
      "text/plain": [
       "'time traveller yiohf orwg'"
      ]
     },
     "execution_count": 51,
     "metadata": {},
     "output_type": "execute_result"
    }
   ],
   "source": [
    "predict_ch8('time traveller ', 10, net, vocab, d2l.try_gpu())"
   ]
  }
 ],
 "metadata": {
  "kernelspec": {
   "display_name": "Python 3 (ipykernel)",
   "language": "python",
   "name": "python3"
  },
  "language_info": {
   "codemirror_mode": {
    "name": "ipython",
    "version": 3
   },
   "file_extension": ".py",
   "mimetype": "text/x-python",
   "name": "python",
   "nbconvert_exporter": "python",
   "pygments_lexer": "ipython3",
   "version": "3.9.18"
  }
 },
 "nbformat": 4,
 "nbformat_minor": 5
}
