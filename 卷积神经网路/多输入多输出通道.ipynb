{
 "cells": [
  {
   "cell_type": "code",
   "execution_count": 1,
   "id": "67ad61dc-5bb1-4e3e-ab9d-b3447a2f5601",
   "metadata": {},
   "outputs": [],
   "source": [
    "import torch\n",
    "from d2l import torch as d2l"
   ]
  },
  {
   "cell_type": "code",
   "execution_count": 4,
   "id": "3d5805a0-8d19-439c-bb43-ec613fabca61",
   "metadata": {},
   "outputs": [],
   "source": [
    "def corr2d_multi_in(X, K):\n",
    "    # 先遍历“X”和“K”的第0个维度（通道维度），再把它们加在一起\n",
    "    return sum(d2l.corr2d(x,k) for x, k in zip(X,K))"
   ]
  },
  {
   "cell_type": "code",
   "execution_count": 11,
   "id": "e0d0d70d-8d21-4e08-88ed-4c48dee776c4",
   "metadata": {},
   "outputs": [
    {
     "data": {
      "text/plain": [
       "tensor([[ 56.,  72.],\n",
       "        [104., 120.]])"
      ]
     },
     "execution_count": 11,
     "metadata": {},
     "output_type": "execute_result"
    }
   ],
   "source": [
    "X = torch.tensor([\n",
    "                    [\n",
    "                     [0.0, 1.0, 2.0], \n",
    "                     [3.0, 4.0, 5.0], \n",
    "                     [6.0, 7.0, 8.0]\n",
    "                    ],\n",
    "                    [\n",
    "                     [1.0, 2.0, 3.0], \n",
    "                     [4.0, 5.0, 6.0], \n",
    "                     [7.0, 8.0, 9.0]\n",
    "                    ]\n",
    "                ])\n",
    "K = torch.tensor([\n",
    "                    [[0.0, 1.0], [2.0, 3.0]], \n",
    "                    [[1.0, 2.0], [3.0, 4.0]]\n",
    "                ])\n",
    "corr2d_multi_in(X, K)"
   ]
  },
  {
   "cell_type": "code",
   "execution_count": 6,
   "id": "1b5b58d8-d770-4ee5-a02d-5d1f942d8eb3",
   "metadata": {},
   "outputs": [
    {
     "name": "stdout",
     "output_type": "stream",
     "text": [
      "tensor([[19., 25.],\n",
      "        [37., 43.]])\n",
      "tensor([[37., 47.],\n",
      "        [67., 77.]])\n"
     ]
    }
   ],
   "source": [
    "for x, k in zip(X,K):\n",
    "    print(d2l.corr2d(x,k))"
   ]
  },
  {
   "cell_type": "markdown",
   "id": "659ec790-d26e-47eb-984d-59f5337e40c7",
   "metadata": {},
   "source": [
    "### 多输出通道 "
   ]
  },
  {
   "cell_type": "code",
   "execution_count": 12,
   "id": "d9941334-7b5a-41b6-ae9d-ca2698cdee9a",
   "metadata": {},
   "outputs": [
    {
     "data": {
      "text/plain": [
       "torch.Size([3, 2, 2, 2])"
      ]
     },
     "execution_count": 12,
     "metadata": {},
     "output_type": "execute_result"
    }
   ],
   "source": [
    "K = torch.stack((K, K + 1, K + 2), 0)\n",
    "K.shape"
   ]
  },
  {
   "cell_type": "code",
   "execution_count": 13,
   "id": "29821ac2-4810-4547-a2f3-7e1acca22812",
   "metadata": {},
   "outputs": [],
   "source": [
    "def corr2d_multi_in_out(X, K):\n",
    "    # 迭代“K”的第0个维度，每次都对输入“X”执行互相关运算。\n",
    "    # 最后将所有结果都叠加在一起\n",
    "    return torch.stack([corr2d_multi_in(X, k) for k in K], 0)"
   ]
  },
  {
   "cell_type": "code",
   "execution_count": 14,
   "id": "2b9564fa-9982-4d9e-9c9b-5e72c7f4ef69",
   "metadata": {},
   "outputs": [
    {
     "name": "stdout",
     "output_type": "stream",
     "text": [
      "tensor([[[0., 1.],\n",
      "         [2., 3.]],\n",
      "\n",
      "        [[1., 2.],\n",
      "         [3., 4.]]])\n",
      "tensor([[[1., 2.],\n",
      "         [3., 4.]],\n",
      "\n",
      "        [[2., 3.],\n",
      "         [4., 5.]]])\n",
      "tensor([[[2., 3.],\n",
      "         [4., 5.]],\n",
      "\n",
      "        [[3., 4.],\n",
      "         [5., 6.]]])\n"
     ]
    }
   ],
   "source": [
    "for k in K:\n",
    "    print(k)"
   ]
  }
 ],
 "metadata": {
  "kernelspec": {
   "display_name": "Python 3 (ipykernel)",
   "language": "python",
   "name": "python3"
  },
  "language_info": {
   "codemirror_mode": {
    "name": "ipython",
    "version": 3
   },
   "file_extension": ".py",
   "mimetype": "text/x-python",
   "name": "python",
   "nbconvert_exporter": "python",
   "pygments_lexer": "ipython3",
   "version": "3.9.18"
  }
 },
 "nbformat": 4,
 "nbformat_minor": 5
}
