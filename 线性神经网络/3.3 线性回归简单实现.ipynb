{
 "cells": [
  {
   "cell_type": "markdown",
   "id": "aa6b549c-97c5-40f2-807d-8737d5374ea5",
   "metadata": {},
   "source": [
    "## 3.3 线性回归的简洁实现"
   ]
  },
  {
   "cell_type": "markdown",
   "id": "15b485d2-881a-4752-988c-eb5a6e4f2c7f",
   "metadata": {},
   "source": [
    "### 3.3.1 生成数据集 "
   ]
  },
  {
   "cell_type": "code",
   "execution_count": 1,
   "id": "92a62652-b63a-4084-bfa5-cb56da8149cd",
   "metadata": {},
   "outputs": [],
   "source": [
    "import numpy as np\n",
    "import torch\n",
    "from torch.utils import data\n",
    "from d2l import torch as d2l"
   ]
  },
  {
   "cell_type": "code",
   "execution_count": 2,
   "id": "a0c8a21f-e974-4be1-bce9-d3135985e49e",
   "metadata": {},
   "outputs": [],
   "source": [
    "true_w = torch.tensor([2, -3.4])\n",
    "true_b = 4.2\n",
    "features, labels = d2l.synthetic_data(true_w, true_b, 1000)"
   ]
  },
  {
   "cell_type": "markdown",
   "id": "62cac8e6-baa3-4273-bfa3-d0056abb84b8",
   "metadata": {},
   "source": [
    "### 3.3.2 读取数据集"
   ]
  },
  {
   "cell_type": "code",
   "execution_count": 5,
   "id": "9666695e-2721-4c73-bd38-969fa15d3e29",
   "metadata": {},
   "outputs": [],
   "source": [
    "def load_array(data_arrays, batch_size, is_true=True):\n",
    "    #构造一个PyTorch数据迭代器\n",
    "    dataset = data.TensorDataset(*data_arrays)\n",
    "    return data.DataLoader(dataset, batch_size, shuffle=is_true)"
   ]
  },
  {
   "cell_type": "code",
   "execution_count": 11,
   "id": "11391f10-59fe-4011-a137-87848ac87486",
   "metadata": {},
   "outputs": [
    {
     "data": {
      "text/plain": [
       "[tensor([[-0.9067,  0.9007],\n",
       "         [-0.0034, -0.7338],\n",
       "         [ 0.3460, -1.1590],\n",
       "         [-0.0366, -0.0084],\n",
       "         [ 1.4603, -1.0409],\n",
       "         [ 1.2620, -0.9941],\n",
       "         [-2.6212, -1.5690],\n",
       "         [ 0.4731, -0.2865],\n",
       "         [ 0.2694,  0.0105],\n",
       "         [ 0.5233, -0.0115]]),\n",
       " tensor([[-0.6730],\n",
       "         [ 6.6887],\n",
       "         [ 8.8247],\n",
       "         [ 4.1592],\n",
       "         [10.6670],\n",
       "         [10.1016],\n",
       "         [ 4.2900],\n",
       "         [ 6.1252],\n",
       "         [ 4.6966],\n",
       "         [ 5.2889]])]"
      ]
     },
     "execution_count": 11,
     "metadata": {},
     "output_type": "execute_result"
    }
   ],
   "source": [
    "batch_size = 10\n",
    "data_iter = load_array((features, labels), batch_size)\n",
    "next(iter(data_iter))"
   ]
  },
  {
   "cell_type": "markdown",
   "id": "059d0971-08b8-4b47-9014-7d2a4f9b511e",
   "metadata": {},
   "source": [
    "### 3.3.3 定义模型"
   ]
  },
  {
   "cell_type": "code",
   "execution_count": 12,
   "id": "76e9542e-5049-484f-a990-9b7d804f5f1c",
   "metadata": {},
   "outputs": [],
   "source": [
    "# nn是神经网络的缩写\n",
    "from torch import nn\n",
    "# Sequential实例将数据传入到第一层，然后将第一层的输出作为第二层的输入\n",
    "# Linear中的参数：第一个指定输入特征形状，即2，第二个指定输出特征形状，输出特征形状为单个标量，因此为1\n",
    "net = nn.Sequential(nn.Linear(2, 1))\n"
   ]
  },
  {
   "cell_type": "markdown",
   "id": "2da63ad5-ee56-410c-a86f-c83cd47fa755",
   "metadata": {},
   "source": [
    "### 3.3.4 初始化模型参数 "
   ]
  },
  {
   "cell_type": "code",
   "execution_count": 14,
   "id": "7d4ce597-770b-4ff5-a165-283abba478d3",
   "metadata": {},
   "outputs": [
    {
     "data": {
      "text/plain": [
       "tensor([[0., 0.]])"
      ]
     },
     "execution_count": 14,
     "metadata": {},
     "output_type": "execute_result"
    }
   ],
   "source": [
    "# net[0]选择的是网络中的第一个图层\n",
    "# 后使用weight.data和bias.data方法访问参数。我们还可以使用替换方法normal_和fill_来重写参数值\n",
    "net[0].weight.data.normal_(0, 0.01)\n",
    "net[0].weight.data.fill_(0)"
   ]
  },
  {
   "cell_type": "markdown",
   "id": "bf168dfc-f360-4249-b362-6516743e146d",
   "metadata": {},
   "source": [
    "### 3.3.5 定义损失函数 "
   ]
  },
  {
   "cell_type": "code",
   "execution_count": 15,
   "id": "02a0bab8-1240-4ea5-829e-da0ed1d4b891",
   "metadata": {},
   "outputs": [],
   "source": [
    "loss = nn.MSELoss()"
   ]
  },
  {
   "cell_type": "markdown",
   "id": "56f41238-9d1c-4061-b186-969f39a6915f",
   "metadata": {},
   "source": [
    "### 3.3.6 定义优化算法"
   ]
  },
  {
   "cell_type": "code",
   "execution_count": 16,
   "id": "44f1331f-6464-4df4-812d-bf675bad8139",
   "metadata": {},
   "outputs": [],
   "source": [
    "trainer = torch.optim.SGD(net.parameters(), lr=0.03)"
   ]
  },
  {
   "cell_type": "markdown",
   "id": "8c685bf8-f2ab-47d4-9b76-fafad4e0f97c",
   "metadata": {},
   "source": [
    "### 3.3.7 训练\n",
    "步骤：\n",
    "• 通过调用net(X)生成预测并计算损失l（前向传播）。\r\n",
    "• 通过进行反向传播来计算梯度。\r\n",
    "• 通过调用优化器来更新模型参数。"
   ]
  },
  {
   "cell_type": "code",
   "execution_count": 18,
   "id": "d9414ad0-6f99-410c-959b-ddcb6b015388",
   "metadata": {},
   "outputs": [
    {
     "name": "stdout",
     "output_type": "stream",
     "text": [
      "epoch 1, loss 0.000099\n",
      "epoch 2, loss 0.000099\n",
      "epoch 3, loss 0.000099\n",
      "w的估计误差： tensor([-0.0005,  0.0006])\n",
      "b的估计误差： tensor([0.0002])\n"
     ]
    }
   ],
   "source": [
    "num_epochs = 3\n",
    "for epoch in range(num_epochs):\n",
    "    for X, y in data_iter:\n",
    "        #计算损失，预测值与真实值之间的误差\n",
    "        l = loss(net(X) ,y)\n",
    "        #梯度归零\n",
    "        trainer.zero_grad()\n",
    "        #计算梯度\n",
    "        l.backward()\n",
    "        #更新梯度\n",
    "        trainer.step()\n",
    "    l = loss(net(features), labels)\n",
    "    print(f'epoch {epoch + 1}, loss {l:f}')\n",
    "w = net[0].weight.data\n",
    "print('w的估计误差：', true_w - w.reshape(true_w.shape))\n",
    "b = net[0].bias.data\n",
    "print('b的估计误差：', true_b - b)"
   ]
  }
 ],
 "metadata": {
  "kernelspec": {
   "display_name": "Python 3 (ipykernel)",
   "language": "python",
   "name": "python3"
  },
  "language_info": {
   "codemirror_mode": {
    "name": "ipython",
    "version": 3
   },
   "file_extension": ".py",
   "mimetype": "text/x-python",
   "name": "python",
   "nbconvert_exporter": "python",
   "pygments_lexer": "ipython3",
   "version": "3.9.18"
  }
 },
 "nbformat": 4,
 "nbformat_minor": 5
}
