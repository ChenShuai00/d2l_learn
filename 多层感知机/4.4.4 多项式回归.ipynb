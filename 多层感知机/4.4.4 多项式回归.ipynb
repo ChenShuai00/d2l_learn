{
 "cells": [
  {
   "cell_type": "code",
   "execution_count": 1,
   "id": "83c0582a-fc46-4b9d-8c5c-16ce45ad06fd",
   "metadata": {},
   "outputs": [],
   "source": [
    "import math\n",
    "import numpy as np\n",
    "import torch\n",
    "from torch import nn\n",
    "from d2l import torch as d2l"
   ]
  },
  {
   "cell_type": "markdown",
   "id": "a3400283-4f52-418c-b4a5-6ca10df6be4c",
   "metadata": {},
   "source": [
    "### 生成数据集\n",
    "利用三阶多项式来生成训练和测试数据的标签\n",
    "$y = 5 + 1.2x -3.4*\\frac{x^2}{2!} + 5.6*\\frac{x^3}{3!} + \\epsilon$\n",
    "\n",
    "where $\\epsilon = N(0,0.1^2)$ "
   ]
  },
  {
   "cell_type": "code",
   "execution_count": 11,
   "id": "6d5e37a5-980a-4e70-9942-5719491a9ea3",
   "metadata": {},
   "outputs": [],
   "source": [
    "max_degree = 20 #多项式的最大阶数\n",
    "n_train, n_test = 100, 100 #训练和测试数据集大小\n",
    "true_w = np.zeros(max_degree) # 分配大量的空间\n",
    "true_w[0:4] = np.array([5, 1.2, -3.4, 5.6])\n",
    "features = np.random.normal(size=(n_train + n_test, 1))\n",
    "np.random.shuffle(features)\n",
    "poly_features = np.power(features, np.arange(max_degree).reshape(1, -1))\n",
    "for i in range(max_degree):\n",
    "    poly_features[:, i] /= math.gamma(i + 1)  # gamma(n)=(n-1)!\n",
    "# labels的维度:(n_train+n_test,)\n",
    "labels = np.dot(poly_features, true_w)\n",
    "labels += np.random.normal(scale=0.1, size=labels.shape)"
   ]
  },
  {
   "cell_type": "code",
   "execution_count": 12,
   "id": "810314cc-0836-434b-b7eb-e4321758ae6b",
   "metadata": {},
   "outputs": [],
   "source": [
    "# NumPy ndarray转换为tensor\n",
    "true_w, features, poly_features, labels = [torch.tensor(x, dtype=\n",
    "        torch.float32) for x in [true_w, features, poly_features, labels]]"
   ]
  },
  {
   "cell_type": "markdown",
   "id": "3edb4b3f-d132-454a-bbe9-3e80d659e865",
   "metadata": {},
   "source": [
    "### 对模型进行训练和测试 "
   ]
  },
  {
   "cell_type": "code",
   "execution_count": 17,
   "id": "1ac7fded-eb23-40d7-b3ee-ddc55c2ed18c",
   "metadata": {},
   "outputs": [],
   "source": [
    "def evaluate_loss(net, date_iter, loss):\n",
    "    \"\"\"评估给定数据集上模型的损失\"\"\"\n",
    "    metric = d2l.Accumulator(2) #损失总和吗，样本数量\n",
    "    for X, y in data_iter:\n",
    "        out = net(X)\n",
    "        y = y.reshape(out.shape)\n",
    "        l = loss(out, y)\n",
    "        metric.add(l.sum(),l.numel())\n",
    "    return metric[0] / metric[1]"
   ]
  },
  {
   "cell_type": "code",
   "execution_count": null,
   "id": "96a0a3be-ac8f-459e-aae1-2ef1fcc94270",
   "metadata": {},
   "outputs": [],
   "source": [
    "def train(train_features, test_features, train_labels, test_labels, num_epochs=400 ):\n",
    "    loss = nn.MSELoss(reduction='none')\n",
    "    input_shape = train_features.shape(-1)\n",
    "    net = nn.Sequential(nn.Linear(input_shape, 1, bias=False))\n",
    "    batch_size = min(10, train_labels.shape[0])\n",
    "train_iter = d2l.load_array((train_features, train_labels.reshape(-1,1)),\n",
    "batch_size)\n",
    "test_iter = d2l.load_array((test_features, test_labels.reshape(-1,1)),\n",
    "batch_size, is_train=False)\n",
    "trainer = torch.optim.SGD(net.parameters(), lr=0.01)\n",
    "animator = d2l.Animator(xlabel='epoch', ylabel='loss', yscale='log',\n",
    "xlim=[1, num_epochs], ylim=[1e-3, 1e2],\n",
    "legend=['train', 'test'])\n",
    "for epoch in range(num_epochs):\n",
    "d2l.train_epoch_ch3(net, train_iter, loss, trainer)\n",
    "if epoch == 0 or (epoch + 1) % 20 == 0:\n",
    "animator.add(epoch + 1, (evaluate_loss(net, train_iter, loss),\n",
    "evaluate_loss(net, test_iter, loss)))\n",
    "print('weight:', net[0].weight.data.numpy()\n",
    "    "
   ]
  }
 ],
 "metadata": {
  "kernelspec": {
   "display_name": "Python 3 (ipykernel)",
   "language": "python",
   "name": "python3"
  },
  "language_info": {
   "codemirror_mode": {
    "name": "ipython",
    "version": 3
   },
   "file_extension": ".py",
   "mimetype": "text/x-python",
   "name": "python",
   "nbconvert_exporter": "python",
   "pygments_lexer": "ipython3",
   "version": "3.9.18"
  }
 },
 "nbformat": 4,
 "nbformat_minor": 5
}
