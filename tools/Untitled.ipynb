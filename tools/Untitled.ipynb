{
 "cells": [
  {
   "cell_type": "markdown",
   "id": "f1a82d11-8d03-4841-a0c5-dc473ec49191",
   "metadata": {},
   "source": [
    "## 计时器 "
   ]
  },
  {
   "cell_type": "code",
   "execution_count": 3,
   "id": "d781ab96-7566-4a09-85d5-3256f6f7ede5",
   "metadata": {},
   "outputs": [],
   "source": [
    "import time\n",
    "class Timer:\n",
    "    \"\"\"记录多次运行时间\"\"\"\n",
    "\n",
    "    #初始化，在声明实例，就开始计时\n",
    "    def __init__(self):\n",
    "        self.times = []\n",
    "        self.start()\n",
    "\n",
    "    def start(self):\n",
    "        \"\"\"启动计时器\"\"\"\n",
    "        self.tik = time.time()\n",
    "\n",
    "    def stop(self):\n",
    "        \"\"\"停止计时并将运行时间记录在列表内，并返回最新的运行时间\"\"\"\n",
    "        self.times.append(time.time() - self.tik)\n",
    "        return self.times[-1]\n",
    "\n",
    "    def avg(self):\n",
    "        \"\"\"返回平均时间\"\"\"\n",
    "        return sum(self.times) / len(self.times)\n",
    "\n",
    "    def sum(self):\n",
    "        \"\"\"返回时间总和\"\"\"\n",
    "        return sum(self.times)\n",
    "\n",
    "    def cumsum(self):\n",
    "        \"\"\"返回累计时间\n",
    "        1. np.array(self.times): 将self.times转换成一个NumPy数组。NumPy是Python的一个库，它提供了对大型多维数组和矩阵的支持，以及一个大量的高级数学函数来操作这些数组。\n",
    "\n",
    "        2. .cumsum(): 对NumPy数组应用cumsum方法。cumsum是“累积求和”的缩写，该方法会计算一个累积和数组，其中每个元素是原数组直到该位置的所有元素的总和。例如，如果self.times是[1, 2, 3]，那么cumsum之后的结果会是[1, 3, 6]。\n",
    "\n",
    "        3. .tolist(): 将累积和数组转换回一个Python列表。这通常是为了兼容那些需要Python原生列表类型作为输入的函数或者是为了输出的目的。\n",
    "        \"\"\"\n",
    "        return np.array(self.times).cumsum().tolist()"
   ]
  },
  {
   "cell_type": "code",
   "execution_count": 8,
   "id": "7e8dad85-1e66-4a5c-be37-f5d553b69d20",
   "metadata": {},
   "outputs": [
    {
     "name": "stdout",
     "output_type": "stream",
     "text": [
      "  0.026801\n"
     ]
    }
   ],
   "source": [
    "\"\"\"实例化测试\"\"\"\n",
    "timer = Timer()\n",
    "for i in range(100000):\n",
    "    i = i + i\n",
    "print(f\"{timer.stop():10f}\")"
   ]
  },
  {
   "cell_type": "code",
   "execution_count": null,
   "id": "ba28ddfb-a2ef-4fcb-a2dd-90d1335a1184",
   "metadata": {},
   "outputs": [],
   "source": []
  }
 ],
 "metadata": {
  "kernelspec": {
   "display_name": "Python 3 (ipykernel)",
   "language": "python",
   "name": "python3"
  },
  "language_info": {
   "codemirror_mode": {
    "name": "ipython",
    "version": 3
   },
   "file_extension": ".py",
   "mimetype": "text/x-python",
   "name": "python",
   "nbconvert_exporter": "python",
   "pygments_lexer": "ipython3",
   "version": "3.9.18"
  }
 },
 "nbformat": 4,
 "nbformat_minor": 5
}
