{
 "cells": [
  {
   "cell_type": "code",
   "execution_count": 1,
   "id": "20c82a16-d60a-4b1b-99c1-136775bc2c46",
   "metadata": {},
   "outputs": [],
   "source": [
    "%matplotlib inline\n",
    "from math import erf, factorial\n",
    "import torch\n",
    "from IPython import display\n",
    "from d2l import torch as d2l\n",
    "\n",
    "torch.pi = torch.acos(torch.zeros(1)) * 2  # Define pi in torch"
   ]
  },
  {
   "cell_type": "code",
   "execution_count": null,
   "id": "578c4e06-1cd2-4bdf-8e0d-45e332cb916e",
   "metadata": {},
   "outputs": [],
   "source": []
  }
 ],
 "metadata": {
  "kernelspec": {
   "display_name": "Python 3 (ipykernel)",
   "language": "python",
   "name": "python3"
  },
  "language_info": {
   "codemirror_mode": {
    "name": "ipython",
    "version": 3
   },
   "file_extension": ".py",
   "mimetype": "text/x-python",
   "name": "python",
   "nbconvert_exporter": "python",
   "pygments_lexer": "ipython3",
   "version": "3.9.18"
  }
 },
 "nbformat": 4,
 "nbformat_minor": 5
}
